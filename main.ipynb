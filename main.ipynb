{
 "cells": [
  {
   "cell_type": "code",
   "execution_count": 1,
   "metadata": {},
   "outputs": [],
   "source": [
    "# import important packages\n",
    "import pandas as pd\n",
    "import matplotlib as mpl\n",
    "import matplotlib.pyplot as plt"
   ]
  },
  {
   "cell_type": "code",
   "execution_count": 2,
   "metadata": {},
   "outputs": [
    {
     "data": {
      "text/html": [
       "<div>\n",
       "<style scoped>\n",
       "    .dataframe tbody tr th:only-of-type {\n",
       "        vertical-align: middle;\n",
       "    }\n",
       "\n",
       "    .dataframe tbody tr th {\n",
       "        vertical-align: top;\n",
       "    }\n",
       "\n",
       "    .dataframe thead th {\n",
       "        text-align: right;\n",
       "    }\n",
       "</style>\n",
       "<table border=\"1\" class=\"dataframe\">\n",
       "  <thead>\n",
       "    <tr style=\"text-align: right;\">\n",
       "      <th></th>\n",
       "      <th>Unnamed: 0</th>\n",
       "      <th>minute</th>\n",
       "      <th>team</th>\n",
       "      <th>xG</th>\n",
       "      <th>player</th>\n",
       "      <th>result</th>\n",
       "    </tr>\n",
       "  </thead>\n",
       "  <tbody>\n",
       "    <tr>\n",
       "      <th>0</th>\n",
       "      <td>0</td>\n",
       "      <td>1</td>\n",
       "      <td>Southampton</td>\n",
       "      <td>0.105402</td>\n",
       "      <td>Nathan Redmond</td>\n",
       "      <td>BlockedShot</td>\n",
       "    </tr>\n",
       "    <tr>\n",
       "      <th>1</th>\n",
       "      <td>1</td>\n",
       "      <td>2</td>\n",
       "      <td>Southampton</td>\n",
       "      <td>0.136320</td>\n",
       "      <td>Jan Bednarek</td>\n",
       "      <td>BlockedShot</td>\n",
       "    </tr>\n",
       "    <tr>\n",
       "      <th>2</th>\n",
       "      <td>2</td>\n",
       "      <td>2</td>\n",
       "      <td>Southampton</td>\n",
       "      <td>0.037217</td>\n",
       "      <td>Oriol Romeu</td>\n",
       "      <td>BlockedShot</td>\n",
       "    </tr>\n",
       "    <tr>\n",
       "      <th>3</th>\n",
       "      <td>3</td>\n",
       "      <td>2</td>\n",
       "      <td>Southampton</td>\n",
       "      <td>0.021404</td>\n",
       "      <td>James Ward-Prowse</td>\n",
       "      <td>BlockedShot</td>\n",
       "    </tr>\n",
       "    <tr>\n",
       "      <th>4</th>\n",
       "      <td>4</td>\n",
       "      <td>3</td>\n",
       "      <td>Southampton</td>\n",
       "      <td>0.066363</td>\n",
       "      <td>Pierre-Emile Højbjerg</td>\n",
       "      <td>BlockedShot</td>\n",
       "    </tr>\n",
       "  </tbody>\n",
       "</table>\n",
       "</div>"
      ],
      "text/plain": [
       "   Unnamed: 0  minute         team        xG                 player  \\\n",
       "0           0       1  Southampton  0.105402         Nathan Redmond   \n",
       "1           1       2  Southampton  0.136320           Jan Bednarek   \n",
       "2           2       2  Southampton  0.037217            Oriol Romeu   \n",
       "3           3       2  Southampton  0.021404      James Ward-Prowse   \n",
       "4           4       3  Southampton  0.066363  Pierre-Emile Højbjerg   \n",
       "\n",
       "        result  \n",
       "0  BlockedShot  \n",
       "1  BlockedShot  \n",
       "2  BlockedShot  \n",
       "3  BlockedShot  \n",
       "4  BlockedShot  "
      ]
     },
     "execution_count": 2,
     "metadata": {},
     "output_type": "execute_result"
    }
   ],
   "source": [
    "# collect the data\n",
    "df = pd.read_csv('data.csv')\n",
    "\n",
    "# dislplay the data\n",
    "df.head()"
   ]
  },
  {
   "cell_type": "code",
   "execution_count": 3,
   "metadata": {},
   "outputs": [],
   "source": [
    "# create the away xg array\n",
    "a_xG = [0]\n",
    "a_min = [0]\n",
    "\n",
    "# create the home xg\n",
    "h_xG = [0]\n",
    "h_min = [0]\n",
    "\n",
    "# variables for finding home and away teams\n",
    "hteam = df['team'].iloc[0]\n",
    "ateam = df['team'].iloc[-1]\n",
    "\n",
    "# iterate the data and add to that array\n",
    "for x in range(len(df['xG'])):\n",
    "    if (df['team'][x] == ateam):\n",
    "        a_xG.append(df['xG'][x])\n",
    "        a_min.append(df['minute'][x])\n",
    "    if (df['team'][x] == hteam):\n",
    "        h_xG.append(df['xG'][x])\n",
    "        h_min.append(df['minute'][x])\n",
    "\n",
    "\n"
   ]
  },
  {
   "cell_type": "code",
   "execution_count": 8,
   "metadata": {},
   "outputs": [],
   "source": [
    "def nums_cum_sum(nums_list):\n",
    "    return [sum(nums_list[:i+1]) for i in range(len(nums_list))]\n",
    "\n",
    "a_cum = nums_cum_sum(a_xG)\n",
    "h_cum = nums_cum_sum(h_xG)\n",
    "\n",
    "a_total = round(a_cum[-1],2)\n",
    "h_total = round(h_cum[-1],2)\n"
   ]
  },
  {
   "cell_type": "code",
   "execution_count": 13,
   "metadata": {},
   "outputs": [
    {
     "data": {
      "text/plain": [
       "[<matplotlib.lines.Line2D at 0x27944922be0>]"
      ]
     },
     "execution_count": 13,
     "metadata": {},
     "output_type": "execute_result"
    },
    {
     "data": {
      "image/png": "[encoded data removed]",
      "text/plain": [
       "<Figure size 720x360 with 1 Axes>"
      ]
     },
     "metadata": {},
     "output_type": "display_data"
    }
   ],
   "source": [
    "fig,ax = plt.subplots(figsize = (10,5))\n",
    "fig.set_facecolor(('#3d4849'))\n",
    "ax.patch.set_facecolor('#3d4849')\n",
    "ax.step(x=a_min,y=a_cum)\n",
    "ax.step(x=h_min,y=h_cum)"
   ]
  }
 ],
 "metadata": {
  "kernelspec": {
   "display_name": "Python 3",
   "language": "python",
   "name": "python3"
  },
  "language_info": {
   "codemirror_mode": {
    "name": "ipython",
    "version": 3
   },
   "file_extension": ".py",
   "mimetype": "text/x-python",
   "name": "python",
   "nbconvert_exporter": "python",
   "pygments_lexer": "ipython3",
   "version": "3.9.0"
  },
  "orig_nbformat": 4,
  "vscode": {
   "interpreter": {
    "hash": "3a10e7853a6af272243702461df9837e9a4c6cc67f2cc84bf8c65c3512771307"
   }
  }
 },
 "nbformat": 4,
 "nbformat_minor": 2
}
